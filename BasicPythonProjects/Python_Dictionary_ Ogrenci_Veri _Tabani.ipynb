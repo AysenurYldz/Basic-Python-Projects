{
 "cells": [
  {
   "cell_type": "markdown",
   "id": "1fe25b1f",
   "metadata": {},
   "source": [
    "# Python Dictionary ile Öğrenci Veri Tabanı"
   ]
  },
  {
   "cell_type": "markdown",
   "id": "8cceb801",
   "metadata": {},
   "source": [
    "# HEDEFLER\n"
   ]
  },
  {
   "cell_type": "markdown",
   "id": "dd6910ca",
   "metadata": {},
   "source": [
    "Öğrencilerin kayıtlı olacağı bir sözlük oluşturma\n",
    "Bu sözlüğe her öğrenci bir sözlük içinde olacak şekilde eleman ekleme\n",
    "Öğrenci kaydını güncelleme\n",
    "Öğrencini kaydını silme\n"
   ]
  },
  {
   "cell_type": "code",
   "execution_count": null,
   "id": "58324676",
   "metadata": {},
   "outputs": [],
   "source": [
    "text = \"Öğrenci eklemek için 1'i,\\nöğrenci güncellemek için 2'yi, \\nöğrenci silmek için ise 3'ü seçiniz.\\nSistemden çıkmak istiyorsanız 4'e basınız.\"\n"
   ]
  },
  {
   "cell_type": "code",
   "execution_count": null,
   "id": "e116e0ef",
   "metadata": {},
   "outputs": [],
   "source": [
    "db={}\n"
   ]
  },
  {
   "cell_type": "code",
   "execution_count": null,
   "id": "08bbf48d",
   "metadata": {},
   "outputs": [],
   "source": [
    "print(\"Öğrenci veritabanına hoşgeldiniz.\")\n",
    "while True:\n",
    "    a=int(input(text))\n",
    "    \n",
    "    if a==1:\n",
    "        no=int(input(\"Öğrencinin numarasınız giriniz:\"))\n",
    "        ad=input(\"Öğrencinin adını giriniz:\")\n",
    "        soyad=input(\"Öğrencinin soyadını giriniz:\")\n",
    "        bolum=input(\"Öğrencinin bölümünü giriniz:\")\n",
    "        cls=input(\"Öğrencinin sınıfını giriniz:\")\n",
    "        tdict={\"ad\": ad, \"soyad\":soyad, \"bölüm\": bolum, \"sınıf\":cls}\n",
    "        print(tdict)\n",
    "        db.update({no:tdict})\n",
    "        print(db)\n",
    "        \n",
    "    elif a==2:\n",
    "        no=int(input(\"Güncellemek istediğiniz öğrencinin numarasını giriniz:\"))\n",
    "        if db.get(no)==None:\n",
    "            print(\"Böyle bir öğrenci bulunmamaktadır.\")\n",
    "        else:\n",
    "            print(db[no])\n",
    "            ad=input(\"Öğrencinin adını giriniz:\")\n",
    "            soyad=input(\"Öğrencinin soyadını giriniz:\")\n",
    "            bolum=input(\"Öğrencinin bölümünü giriniz:\")\n",
    "            cls=input(\"Öğrencinin sınıfını giriniz:\")\n",
    "            tdict={\"ad\": ad, \"soyad\":soyad, \"bölüm\": bolum, \"sınıf\":cls}\n",
    "            db[no]=tdict\n",
    "            print(db)\n",
    "            \n",
    "    elif a==3:\n",
    "        no=int(input(\"Silmek istediğiniz öğrencinin numarasını giriniz:\"))\n",
    "        if db.get(no)==None:\n",
    "            print(\"Böyle bir öğrenci bulunmamaktadır.\")\n",
    "        else:\n",
    "            db.pop(no)\n",
    "            print(db)\n",
    "            print(\"Öğrenci başarıyla silindi\")\n",
    "            \n",
    "    elif a==4:\n",
    "        break\n",
    "        \n",
    "    else:\n",
    "        print(\"Böyle bir seçenek yok\")\n",
    "            \n",
    "            \n",
    "        \n",
    "        \n",
    "        "
   ]
  },
  {
   "cell_type": "code",
   "execution_count": null,
   "id": "26733006",
   "metadata": {},
   "outputs": [],
   "source": []
  }
 ],
 "metadata": {
  "kernelspec": {
   "display_name": "Python 3 (ipykernel)",
   "language": "python",
   "name": "python3"
  },
  "language_info": {
   "codemirror_mode": {
    "name": "ipython",
    "version": 3
   },
   "file_extension": ".py",
   "mimetype": "text/x-python",
   "name": "python",
   "nbconvert_exporter": "python",
   "pygments_lexer": "ipython3",
   "version": "3.9.12"
  }
 },
 "nbformat": 4,
 "nbformat_minor": 5
}
