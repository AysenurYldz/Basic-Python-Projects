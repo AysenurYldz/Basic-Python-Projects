{
 "cells": [
  {
   "cell_type": "code",
   "execution_count": 1,
   "id": "8181c659",
   "metadata": {},
   "outputs": [],
   "source": [
    "dil=[\"Türkçe\",\"İngilizce\", \"Fransızsca\", \"Rusça\", \"Bulgarca\"]"
   ]
  },
  {
   "cell_type": "code",
   "execution_count": 2,
   "id": "83aadcd4",
   "metadata": {},
   "outputs": [
    {
     "data": {
      "text/plain": [
       "['Türkçe', 'İngilizce', 'Fransızsca', 'Rusça', 'Bulgarca', 'Korece']"
      ]
     },
     "execution_count": 2,
     "metadata": {},
     "output_type": "execute_result"
    }
   ],
   "source": [
    "dil.append(\"Korece\")\n",
    "dil"
   ]
  },
  {
   "cell_type": "code",
   "execution_count": 3,
   "id": "c4ce1b56",
   "metadata": {},
   "outputs": [
    {
     "data": {
      "text/plain": [
       "['Türkçe',\n",
       " 'İngilizce',\n",
       " 'Fransızsca',\n",
       " 'Rusça',\n",
       " 'İspanyolca',\n",
       " 'Bulgarca',\n",
       " 'Korece']"
      ]
     },
     "execution_count": 3,
     "metadata": {},
     "output_type": "execute_result"
    }
   ],
   "source": [
    "dil.insert(4,\"İspanyolca\")\n",
    "dil"
   ]
  },
  {
   "cell_type": "code",
   "execution_count": 4,
   "id": "bd5c1057",
   "metadata": {},
   "outputs": [
    {
     "data": {
      "text/plain": [
       "'İspanyolca'"
      ]
     },
     "execution_count": 4,
     "metadata": {},
     "output_type": "execute_result"
    }
   ],
   "source": [
    "dil.pop(4)"
   ]
  },
  {
   "cell_type": "code",
   "execution_count": 5,
   "id": "e0180146",
   "metadata": {},
   "outputs": [
    {
     "data": {
      "text/plain": [
       "['Türkçe', 'İngilizce', 'Fransızsca', 'Rusça', 'Bulgarca', 'Korece']"
      ]
     },
     "execution_count": 5,
     "metadata": {},
     "output_type": "execute_result"
    }
   ],
   "source": [
    "dil"
   ]
  },
  {
   "cell_type": "code",
   "execution_count": 6,
   "id": "14393da2",
   "metadata": {},
   "outputs": [
    {
     "data": {
      "text/plain": [
       "['Türkçe', 'İngilizce', 'Fransızsca', 'Rusça', 'Bulgarca']"
      ]
     },
     "execution_count": 6,
     "metadata": {},
     "output_type": "execute_result"
    }
   ],
   "source": [
    "dil.remove(\"Korece\")\n",
    "dil"
   ]
  },
  {
   "cell_type": "code",
   "execution_count": 7,
   "id": "cbdf4f9b",
   "metadata": {},
   "outputs": [],
   "source": [
    "dil2=[\"Korece\", \"İspanyolca\", \"Almanca\"]"
   ]
  },
  {
   "cell_type": "code",
   "execution_count": 8,
   "id": "d4056c18",
   "metadata": {},
   "outputs": [
    {
     "data": {
      "text/plain": [
       "['Türkçe',\n",
       " 'İngilizce',\n",
       " 'Fransızsca',\n",
       " 'Rusça',\n",
       " 'Bulgarca',\n",
       " 'Korece',\n",
       " 'İspanyolca',\n",
       " 'Almanca']"
      ]
     },
     "execution_count": 8,
     "metadata": {},
     "output_type": "execute_result"
    }
   ],
   "source": [
    "dil.extend(dil2)\n",
    "dil"
   ]
  },
  {
   "cell_type": "code",
   "execution_count": 9,
   "id": "9ea84642",
   "metadata": {},
   "outputs": [
    {
     "data": {
      "text/plain": [
       "['Almanca',\n",
       " 'Bulgarca',\n",
       " 'Fransızsca',\n",
       " 'Korece',\n",
       " 'Rusça',\n",
       " 'Türkçe',\n",
       " 'İngilizce',\n",
       " 'İspanyolca']"
      ]
     },
     "execution_count": 9,
     "metadata": {},
     "output_type": "execute_result"
    }
   ],
   "source": [
    "dil.sort()\n",
    "dil"
   ]
  },
  {
   "cell_type": "code",
   "execution_count": 10,
   "id": "13bf571d",
   "metadata": {},
   "outputs": [
    {
     "data": {
      "text/plain": [
       "['İspanyolca',\n",
       " 'İngilizce',\n",
       " 'Türkçe',\n",
       " 'Rusça',\n",
       " 'Korece',\n",
       " 'Fransızsca',\n",
       " 'Bulgarca',\n",
       " 'Almanca']"
      ]
     },
     "execution_count": 10,
     "metadata": {},
     "output_type": "execute_result"
    }
   ],
   "source": [
    "dil.reverse()\n",
    "dil"
   ]
  },
  {
   "cell_type": "code",
   "execution_count": 11,
   "id": "16db8099",
   "metadata": {},
   "outputs": [
    {
     "data": {
      "text/plain": [
       "['Almanca',\n",
       " 'Bulgarca',\n",
       " 'Fransızsca',\n",
       " 'Korece',\n",
       " 'Rusça',\n",
       " 'Türkçe',\n",
       " 'İngilizce',\n",
       " 'İspanyolca']"
      ]
     },
     "execution_count": 11,
     "metadata": {},
     "output_type": "execute_result"
    }
   ],
   "source": [
    "dil[::-1] #reverse ile aynı mantık"
   ]
  },
  {
   "cell_type": "code",
   "execution_count": 12,
   "id": "4168fbf5",
   "metadata": {},
   "outputs": [
    {
     "data": {
      "text/plain": [
       "['İspanyolca',\n",
       " 'İngilizce',\n",
       " 'Türkçe',\n",
       " 'Rusça',\n",
       " 'Korece',\n",
       " 'Fransızsca',\n",
       " 'Bulgarca',\n",
       " 'Almanca',\n",
       " 'Türkçe']"
      ]
     },
     "execution_count": 12,
     "metadata": {},
     "output_type": "execute_result"
    }
   ],
   "source": [
    "dil.append(\"Türkçe\")\n",
    "dil"
   ]
  },
  {
   "cell_type": "code",
   "execution_count": 13,
   "id": "b7164b93",
   "metadata": {},
   "outputs": [
    {
     "data": {
      "text/plain": [
       "2"
      ]
     },
     "execution_count": 13,
     "metadata": {},
     "output_type": "execute_result"
    }
   ],
   "source": [
    "dil.count(\"Türkçe\")"
   ]
  },
  {
   "cell_type": "code",
   "execution_count": 14,
   "id": "7ac286b2",
   "metadata": {},
   "outputs": [
    {
     "data": {
      "text/plain": [
       "2"
      ]
     },
     "execution_count": 14,
     "metadata": {},
     "output_type": "execute_result"
    }
   ],
   "source": [
    "dil.index(\"Türkçe\")"
   ]
  },
  {
   "cell_type": "code",
   "execution_count": 15,
   "id": "cdbea589",
   "metadata": {},
   "outputs": [],
   "source": [
    "liste=dil.copy()"
   ]
  },
  {
   "cell_type": "code",
   "execution_count": 16,
   "id": "d25055c6",
   "metadata": {},
   "outputs": [
    {
     "data": {
      "text/plain": [
       "['İspanyolca',\n",
       " 'İngilizce',\n",
       " 'Türkçe',\n",
       " 'Rusça',\n",
       " 'Korece',\n",
       " 'Fransızsca',\n",
       " 'Bulgarca',\n",
       " 'Almanca',\n",
       " 'Türkçe']"
      ]
     },
     "execution_count": 16,
     "metadata": {},
     "output_type": "execute_result"
    }
   ],
   "source": [
    "liste"
   ]
  },
  {
   "cell_type": "code",
   "execution_count": 17,
   "id": "645e06a7",
   "metadata": {},
   "outputs": [
    {
     "data": {
      "text/plain": [
       "[]"
      ]
     },
     "execution_count": 17,
     "metadata": {},
     "output_type": "execute_result"
    }
   ],
   "source": [
    "liste.clear()\n",
    "liste"
   ]
  },
  {
   "cell_type": "code",
   "execution_count": 18,
   "id": "22b38608",
   "metadata": {},
   "outputs": [
    {
     "data": {
      "text/plain": [
       "['Almanca',\n",
       " 'Bulgarca',\n",
       " 'Fransızsca',\n",
       " 'Korece',\n",
       " 'Rusça',\n",
       " 'Türkçe',\n",
       " 'Türkçe',\n",
       " 'İngilizce',\n",
       " 'İspanyolca']"
      ]
     },
     "execution_count": 18,
     "metadata": {},
     "output_type": "execute_result"
    }
   ],
   "source": [
    "sorted(dil)"
   ]
  },
  {
   "cell_type": "code",
   "execution_count": 19,
   "id": "2e9b5674",
   "metadata": {},
   "outputs": [
    {
     "data": {
      "text/plain": [
       "['Koleksiyoncu',\n",
       " 'Hastalık Hastası',\n",
       " 'Sürgün Gezegeni',\n",
       " 'Vahşi Kızlar',\n",
       " 'Yaşamak']"
      ]
     },
     "execution_count": 19,
     "metadata": {},
     "output_type": "execute_result"
    }
   ],
   "source": [
    "book=[\"Koleksiyoncu\", \"Hastalık Hastası\", \"Sürgün Gezegeni\", \"Vahşi Kızlar\", \"Yaşamak\"]\n",
    "book"
   ]
  },
  {
   "cell_type": "code",
   "execution_count": 20,
   "id": "e85b9df5",
   "metadata": {},
   "outputs": [
    {
     "data": {
      "text/plain": [
       "['On Kişiydiler', 'Köpek Kalbi', 'Zorba', 'Toprak Ana', 'Dijital Kale']"
      ]
     },
     "execution_count": 20,
     "metadata": {},
     "output_type": "execute_result"
    }
   ],
   "source": [
    "book1=[\"On Kişiydiler\", \"Köpek Kalbi\", \"Zorba\", \"Toprak Ana\", \"Dijital Kale\"]\n",
    "book1"
   ]
  },
  {
   "cell_type": "code",
   "execution_count": 21,
   "id": "4542997f",
   "metadata": {},
   "outputs": [
    {
     "data": {
      "text/plain": [
       "['Koleksiyoncu',\n",
       " 'Hastalık Hastası',\n",
       " 'Sürgün Gezegeni',\n",
       " 'Vahşi Kızlar',\n",
       " 'Yaşamak',\n",
       " 'Calicula']"
      ]
     },
     "execution_count": 21,
     "metadata": {},
     "output_type": "execute_result"
    }
   ],
   "source": [
    "book.append(\"Calicula\")\n",
    "book"
   ]
  },
  {
   "cell_type": "code",
   "execution_count": 22,
   "id": "eab043af",
   "metadata": {},
   "outputs": [
    {
     "data": {
      "text/plain": [
       "['Koleksiyoncu',\n",
       " 'Silahlara Veda',\n",
       " 'Hastalık Hastası',\n",
       " 'Sürgün Gezegeni',\n",
       " 'Vahşi Kızlar',\n",
       " 'Yaşamak',\n",
       " 'Calicula']"
      ]
     },
     "execution_count": 22,
     "metadata": {},
     "output_type": "execute_result"
    }
   ],
   "source": [
    "book.insert(1,\"Silahlara Veda\")\n",
    "book"
   ]
  },
  {
   "cell_type": "code",
   "execution_count": 23,
   "id": "a2ee9970",
   "metadata": {},
   "outputs": [
    {
     "data": {
      "text/plain": [
       "['On Kişiydiler', 'Köpek Kalbi', 'Zorba', 'Toprak Ana']"
      ]
     },
     "execution_count": 23,
     "metadata": {},
     "output_type": "execute_result"
    }
   ],
   "source": [
    "book1.pop(-1)\n",
    "book1"
   ]
  },
  {
   "cell_type": "code",
   "execution_count": 24,
   "id": "a4c0a7e0",
   "metadata": {},
   "outputs": [
    {
     "data": {
      "text/plain": [
       "['Koleksiyoncu',\n",
       " 'Silahlara Veda',\n",
       " 'Hastalık Hastası',\n",
       " 'Vahşi Kızlar',\n",
       " 'Yaşamak',\n",
       " 'Calicula']"
      ]
     },
     "execution_count": 24,
     "metadata": {},
     "output_type": "execute_result"
    }
   ],
   "source": [
    "book.remove(\"Sürgün Gezegeni\")\n",
    "book"
   ]
  },
  {
   "cell_type": "code",
   "execution_count": 25,
   "id": "20dda893",
   "metadata": {},
   "outputs": [
    {
     "data": {
      "text/plain": [
       "['Koleksiyoncu',\n",
       " 'Silahlara Veda',\n",
       " 'Hastalık Hastası',\n",
       " 'Vahşi Kızlar',\n",
       " 'Yaşamak',\n",
       " 'Calicula',\n",
       " 'On Kişiydiler',\n",
       " 'Köpek Kalbi',\n",
       " 'Zorba',\n",
       " 'Toprak Ana']"
      ]
     },
     "execution_count": 25,
     "metadata": {},
     "output_type": "execute_result"
    }
   ],
   "source": [
    "book.extend(book1)\n",
    "book"
   ]
  },
  {
   "cell_type": "code",
   "execution_count": 26,
   "id": "71cc9328",
   "metadata": {},
   "outputs": [
    {
     "data": {
      "text/plain": [
       "['Calicula',\n",
       " 'Hastalık Hastası',\n",
       " 'Koleksiyoncu',\n",
       " 'Köpek Kalbi',\n",
       " 'On Kişiydiler',\n",
       " 'Silahlara Veda',\n",
       " 'Toprak Ana',\n",
       " 'Vahşi Kızlar',\n",
       " 'Yaşamak',\n",
       " 'Zorba']"
      ]
     },
     "execution_count": 26,
     "metadata": {},
     "output_type": "execute_result"
    }
   ],
   "source": [
    "book.sort()\n",
    "book"
   ]
  },
  {
   "cell_type": "code",
   "execution_count": 27,
   "id": "6f607d00",
   "metadata": {},
   "outputs": [
    {
     "data": {
      "text/plain": [
       "['Zorba',\n",
       " 'Yaşamak',\n",
       " 'Vahşi Kızlar',\n",
       " 'Toprak Ana',\n",
       " 'Silahlara Veda',\n",
       " 'On Kişiydiler',\n",
       " 'Köpek Kalbi',\n",
       " 'Koleksiyoncu',\n",
       " 'Hastalık Hastası',\n",
       " 'Calicula']"
      ]
     },
     "execution_count": 27,
     "metadata": {},
     "output_type": "execute_result"
    }
   ],
   "source": [
    "book.reverse()\n",
    "book"
   ]
  },
  {
   "cell_type": "code",
   "execution_count": 28,
   "id": "1c28c8be",
   "metadata": {},
   "outputs": [
    {
     "data": {
      "text/plain": [
       "['Zorba',\n",
       " 'Yaşamak',\n",
       " 'Vahşi Kızlar',\n",
       " 'Toprak Ana',\n",
       " 'Silahlara Veda',\n",
       " 'On Kişiydiler',\n",
       " 'Köpek Kalbi',\n",
       " 'Koleksiyoncu',\n",
       " 'Hastalık Hastası',\n",
       " 'Calicula',\n",
       " 'Calicula']"
      ]
     },
     "execution_count": 28,
     "metadata": {},
     "output_type": "execute_result"
    }
   ],
   "source": [
    "book.append(\"Calicula\")\n",
    "book"
   ]
  },
  {
   "cell_type": "code",
   "execution_count": 29,
   "id": "b93fe1e5",
   "metadata": {},
   "outputs": [
    {
     "data": {
      "text/plain": [
       "2"
      ]
     },
     "execution_count": 29,
     "metadata": {},
     "output_type": "execute_result"
    }
   ],
   "source": [
    "book.count(\"Calicula\")"
   ]
  },
  {
   "cell_type": "code",
   "execution_count": 30,
   "id": "c7445583",
   "metadata": {},
   "outputs": [
    {
     "data": {
      "text/plain": [
       "9"
      ]
     },
     "execution_count": 30,
     "metadata": {},
     "output_type": "execute_result"
    }
   ],
   "source": [
    "book.index(\"Calicula\")"
   ]
  },
  {
   "cell_type": "code",
   "execution_count": 31,
   "id": "89de924d",
   "metadata": {},
   "outputs": [],
   "source": [
    "books=book.copy()"
   ]
  },
  {
   "cell_type": "code",
   "execution_count": 32,
   "id": "f9b80162",
   "metadata": {},
   "outputs": [
    {
     "data": {
      "text/plain": [
       "['Zorba',\n",
       " 'Yaşamak',\n",
       " 'Vahşi Kızlar',\n",
       " 'Toprak Ana',\n",
       " 'Silahlara Veda',\n",
       " 'On Kişiydiler',\n",
       " 'Köpek Kalbi',\n",
       " 'Koleksiyoncu',\n",
       " 'Hastalık Hastası',\n",
       " 'Calicula',\n",
       " 'Calicula']"
      ]
     },
     "execution_count": 32,
     "metadata": {},
     "output_type": "execute_result"
    }
   ],
   "source": [
    "books"
   ]
  },
  {
   "cell_type": "code",
   "execution_count": 33,
   "id": "b75f2609",
   "metadata": {},
   "outputs": [
    {
     "data": {
      "text/plain": [
       "['Calicula',\n",
       " 'Calicula',\n",
       " 'Hastalık Hastası',\n",
       " 'Koleksiyoncu',\n",
       " 'Köpek Kalbi',\n",
       " 'On Kişiydiler',\n",
       " 'Silahlara Veda',\n",
       " 'Toprak Ana',\n",
       " 'Vahşi Kızlar',\n",
       " 'Yaşamak',\n",
       " 'Zorba']"
      ]
     },
     "execution_count": 33,
     "metadata": {},
     "output_type": "execute_result"
    }
   ],
   "source": [
    "sorted(books)"
   ]
  },
  {
   "cell_type": "code",
   "execution_count": 34,
   "id": "c552f495",
   "metadata": {},
   "outputs": [],
   "source": [
    "books.clear()"
   ]
  },
  {
   "cell_type": "code",
   "execution_count": 35,
   "id": "52e8150e",
   "metadata": {},
   "outputs": [
    {
     "data": {
      "text/plain": [
       "[]"
      ]
     },
     "execution_count": 35,
     "metadata": {},
     "output_type": "execute_result"
    }
   ],
   "source": [
    "books"
   ]
  }
 ],
 "metadata": {
  "kernelspec": {
   "display_name": "Python 3 (ipykernel)",
   "language": "python",
   "name": "python3"
  },
  "language_info": {
   "codemirror_mode": {
    "name": "ipython",
    "version": 3
   },
   "file_extension": ".py",
   "mimetype": "text/x-python",
   "name": "python",
   "nbconvert_exporter": "python",
   "pygments_lexer": "ipython3",
   "version": "3.9.12"
  }
 },
 "nbformat": 4,
 "nbformat_minor": 5
}
